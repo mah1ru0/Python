{
 "metadata": {
  "language_info": {
   "codemirror_mode": {
    "name": "ipython",
    "version": 3
   },
   "file_extension": ".py",
   "mimetype": "text/x-python",
   "name": "python",
   "nbconvert_exporter": "python",
   "pygments_lexer": "ipython3",
   "version": "3.8.6-final"
  },
  "orig_nbformat": 2,
  "kernelspec": {
   "name": "Python 3.8.6 64-bit",
   "display_name": "Python 3.8.6 64-bit",
   "metadata": {
    "interpreter": {
     "hash": "c227c11ee588739fcaf7332ffb6270564625238a48214b403856cc599d1a2bf4"
    }
   }
  }
 },
 "nbformat": 4,
 "nbformat_minor": 2,
 "cells": [
  {
   "cell_type": "code",
   "execution_count": 1,
   "metadata": {},
   "outputs": [],
   "source": [
    "import turtle\n",
    "\n",
    "def squareTarget(t, size):\n",
    "    for i in range(4):\n",
    "        t.fd(size)\n",
    "        t.lt(90)\n",
    "        \n",
    "wn = turtle.Screen()\n",
    "wn.bgcolor(\"green\")\n",
    "geno = turtle.Turtle()\n",
    "\n",
    "squareTarget(geno, 100)\n"
   ]
  },
  {
   "source": [
    "# Import Title...\n",
    "<p>This is just the beginning</p>"
   ],
   "cell_type": "markdown",
   "metadata": {}
  },
  {
   "cell_type": "code",
   "execution_count": null,
   "metadata": {},
   "outputs": [],
   "source": [
    "'''Refined PolyGen from lab'''\n",
    "\n",
    "import turtle\n",
    "\n",
    "def drawPoly(t, sideLength, numSides):\n",
    "    for i in range(numSides):\n",
    "        t.fd(sideLength)\n",
    "        t.lt(360/numSides)\n",
    "\n",
    "wn = turtle.Screen()\n",
    "wn.bgcolor(\"green\")\n",
    "jen = turtle.Turtle()\n",
    "\n",
    "drawPoly(jen, 30, 10)\n",
    "\n",
    "wn.exitonclick()"
   ]
  },
  {
   "cell_type": "code",
   "execution_count": null,
   "metadata": {},
   "outputs": [],
   "source": []
  }
 ]
}